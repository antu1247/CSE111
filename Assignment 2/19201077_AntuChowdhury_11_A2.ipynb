{
 "cells": [
  {
   "cell_type": "code",
   "execution_count": null,
   "metadata": {},
   "outputs": [],
   "source": [
    "#No.1\n",
    "\n",
    "a=int(input(\"Please enter a number\"))\n",
    "b=int(input(\"Please enter another number\"))\n",
    "if(b==0):\n",
    "    print(\"0\")\n",
    "else:\n",
    "    def myFunction(x,y):\n",
    "        return x/y\n",
    "    result=myFunction(a,b)\n",
    "    integer=result-int(result)\n",
    "    if(integer==0):\n",
    "        print(int(integer))\n",
    "    else:\n",
    "        print(integer)"
   ]
  },
  {
   "cell_type": "code",
   "execution_count": null,
   "metadata": {},
   "outputs": [],
   "source": [
    "#No2\n",
    "\n",
    "height=int(input(\"Please inter your height in centimeter\"))\n",
    "weight=int(input(\"Please enter your weight in kg\"))\n",
    "\n",
    "def myFunction(x,y):\n",
    "    bmi=x/(y*y)\n",
    "    return bmi\n",
    "\n",
    "score=myFunction(weight,(height/100))\n",
    "if (score<18.5):\n",
    "    print(\"Score is\",score,end=\"\")\n",
    "    print(\".\",\"You are underweight\")\n",
    "\n",
    "elif(score>=18.5 and score<=24.9):\n",
    "    print(\"Score is \",score,end=\"\")\n",
    "    print(\".\",\"You are normal\") \n",
    "\n",
    "elif(score<=25 and score>=30):\n",
    "    print(\"Score is\",score,end=\"\")\n",
    "    print(\".\",\"You are overweight\")\n",
    "\n",
    "elif(score>30):\n",
    "    print(\"Score is\",score,end=\"\")\n",
    "    print(\".\",\"You are obese\")            \n"
   ]
  },
  {
   "cell_type": "code",
   "execution_count": null,
   "metadata": {},
   "outputs": [],
   "source": [
    "#No3\n",
    "\n",
    "def myfunc():\n",
    "    minimum=(int(input(\"Please enter your lowest number\")))\n",
    "    maximum=(int(input(\"Please enter your highest number\")))\n",
    "    div=(int(input(\"Please enter your divisor number\")))\n",
    "    sum=0\n",
    "    for i in range(minimum,maximum,1):\n",
    "        if(i%div==0):\n",
    "            sum=sum+i\n",
    "    return sum        \n",
    "    \n",
    "print(myfunc())        \n",
    "        "
   ]
  },
  {
   "cell_type": "code",
   "execution_count": 5,
   "metadata": {},
   "outputs": [
    {
     "name": "stdout",
     "output_type": "stream",
     "text": [
      "Please enter your number: Beef Burger\n",
      "Please enter your location: Dhanmondi \n",
      "243.6\n"
     ]
    }
   ],
   "source": [
    "#No4\n",
    "\n",
    "burger=input(\"Please enter your number: \")\n",
    "location=input(\"Please enter your location: \")\n",
    "price=0\n",
    "def myFood(name,place=\"Mohakhali\"):\n",
    "    if (name==\"BBQ Chicken Cheese Burger\"):\n",
    "        price= 250+(250*0.08)\n",
    "    elif(name==\"Beef Burger\"):\n",
    "        price= 170+(170*0.08)\n",
    "    elif(name==\"Naga Drums\"):\n",
    "        price= 200+(200*0.08)\n",
    "    if(place==\"Mohakhali\" or place==\"\"):\n",
    "        price= price + 40\n",
    "    else:\n",
    "        price= price + 60\n",
    "        \n",
    "    return price\n",
    "amount=myFood(burger,location)\n",
    "print(amount)\n",
    "\n",
    "\n",
    "\n"
   ]
  },
  {
   "cell_type": "code",
   "execution_count": 6,
   "metadata": {},
   "outputs": [
    {
     "name": "stdout",
     "output_type": "stream",
     "text": [
      "Please enter your email: alice@kaaj.com\n",
      "Please enter your recent domain: sheba.xyz\n",
      "Please enter your old domain if have any: kaaj.com\n",
      "Changed: alice@sheba.xyz\n"
     ]
    }
   ],
   "source": [
    "#No5\n",
    "\n",
    "\n",
    "email=input(\"Please enter your email: \")\n",
    "newDomain=input(\"Please enter your recent domain: \")\n",
    "oldDomain=input(\"Please enter your old domain if have any: \")\n",
    "position=\"Change\"\n",
    "\n",
    "def replace_domain(name,postDomain,preDomain=newDomain):\n",
    "    \n",
    "    if(postDomain==preDomain or preDomain==\"\"):\n",
    "        position=\"Unchanged\"\n",
    "    else:\n",
    "        position=\"Changed\"\n",
    "        \n",
    "    return position \n",
    "\n",
    "news=replace_domain(email,newDomain,oldDomain)\n",
    "username=email.split(\"@\") \n",
    "print(news,\": \",username[0],\"@\",newDomain,sep=\"\")  "
   ]
  },
  {
   "cell_type": "code",
   "execution_count": 7,
   "metadata": {},
   "outputs": [
    {
     "name": "stdout",
     "output_type": "stream",
     "text": [
      "Please enter your full name: Steve Jobs\n",
      "e,e,o, Total number of vowels: 3\n"
     ]
    }
   ],
   "source": [
    "#No6\n",
    "\n",
    "number=0\n",
    "name=input(\"Please enter your full name: \")\n",
    "\n",
    "def split(word):\n",
    "    return list(word)\n",
    "memory=split(name)\n",
    "characters=len(memory)\n",
    "\n",
    "for i in range(0,characters,1):\n",
    "           \n",
    "    if (memory[i]==\"A\" or memory[i]==\"E\" or memory[i]==\"I\" or memory[i]==\"O\" or memory[i]==\"U\"):\n",
    "        print(memory[i],\",\",sep=\"\",end=\"\")\n",
    "        number+=1\n",
    "    elif (memory[i]==\"a\" or memory[i]==\"e\" or memory[i]==\"i\" or memory[i]==\"o\" or memory[i]==\"u\"):      \n",
    "        print(memory[i],\",\",sep=\"\",end=\"\")\n",
    "        number+=1    \n",
    "\n",
    "if(number==0):\n",
    "    print(\"No vowels in the name\") \n",
    "else:       \n",
    "    print(\" Total number of vowels:\",number)"
   ]
  },
  {
   "cell_type": "code",
   "execution_count": 8,
   "metadata": {},
   "outputs": [
    {
     "name": "stdout",
     "output_type": "stream",
     "text": [
      "Please enter your word: madam\n",
      "Palindrome\n"
     ]
    }
   ],
   "source": [
    "#No7\n",
    "\n",
    "name=input(\"Please enter your word: \")\n",
    "def split(word):\n",
    "    return list(word)\n",
    "memory=split(name)\n",
    "characters=len(memory)\n",
    "if(memory[0]==memory[characters-1]):\n",
    "    print(\"Palindrome\")\n",
    "else:\n",
    "    print(\"Not a palindrome\")    \n",
    "\n"
   ]
  },
  {
   "cell_type": "code",
   "execution_count": 9,
   "metadata": {},
   "outputs": [
    {
     "name": "stdout",
     "output_type": "stream",
     "text": [
      "Please enter full number of days: 4320\n",
      "11 years 10 months and 5 days\n"
     ]
    }
   ],
   "source": [
    "#No8\n",
    "\n",
    "day=int(input(\"Please enter full number of days: \"))\n",
    "\n",
    "def count(number):\n",
    "    year=number//365\n",
    "    month=(number%365)//30\n",
    "    days=(number%365)%30\n",
    "    \n",
    "    \n",
    "    print(year,\"years\",month,\"months\",\"and\",days,\"days\")\n",
    "count(day)    \n",
    "\n"
   ]
  },
  {
   "cell_type": "code",
   "execution_count": 10,
   "metadata": {},
   "outputs": [
    {
     "name": "stdout",
     "output_type": "stream",
     "text": [
      "my favorite animal is dog. a dog has sharp teeth. \n",
      "My favorite animal is dog. A dog has sharp teeth. "
     ]
    },
    {
     "ename": "IndexError",
     "evalue": "string index out of range",
     "output_type": "error",
     "traceback": [
      "\u001b[1;31m---------------------------------------------------------------------------\u001b[0m",
      "\u001b[1;31mIndexError\u001b[0m                                Traceback (most recent call last)",
      "\u001b[1;32m<ipython-input-10-ca04dd630e1c>\u001b[0m in \u001b[0;36m<module>\u001b[1;34m\u001b[0m\n\u001b[0;32m     28\u001b[0m \u001b[1;33m\u001b[0m\u001b[0m\n\u001b[0;32m     29\u001b[0m \u001b[0mn\u001b[0m \u001b[1;33m=\u001b[0m \u001b[0minput\u001b[0m\u001b[1;33m(\u001b[0m\u001b[1;33m)\u001b[0m\u001b[1;33m\u001b[0m\u001b[1;33m\u001b[0m\u001b[0m\n\u001b[1;32m---> 30\u001b[1;33m \u001b[0mcapitalization\u001b[0m\u001b[1;33m(\u001b[0m\u001b[0mn\u001b[0m\u001b[1;33m)\u001b[0m\u001b[1;33m\u001b[0m\u001b[1;33m\u001b[0m\u001b[0m\n\u001b[0m",
      "\u001b[1;32m<ipython-input-10-ca04dd630e1c>\u001b[0m in \u001b[0;36mcapitalization\u001b[1;34m(text)\u001b[0m\n\u001b[0;32m     13\u001b[0m                     \u001b[0mprint\u001b[0m\u001b[1;33m(\u001b[0m\u001b[0mtext\u001b[0m\u001b[1;33m[\u001b[0m\u001b[0mi\u001b[0m\u001b[1;33m]\u001b[0m\u001b[1;33m,\u001b[0m\u001b[0mend\u001b[0m\u001b[1;33m=\u001b[0m\u001b[1;34m\"\"\u001b[0m\u001b[1;33m)\u001b[0m\u001b[1;33m\u001b[0m\u001b[1;33m\u001b[0m\u001b[0m\n\u001b[0;32m     14\u001b[0m                     \u001b[0mi\u001b[0m\u001b[1;33m+=\u001b[0m\u001b[1;36m1\u001b[0m\u001b[1;33m\u001b[0m\u001b[1;33m\u001b[0m\u001b[0m\n\u001b[1;32m---> 15\u001b[1;33m                     \u001b[0mprint\u001b[0m\u001b[1;33m(\u001b[0m\u001b[0mtext\u001b[0m\u001b[1;33m[\u001b[0m\u001b[0mi\u001b[0m\u001b[1;33m]\u001b[0m\u001b[1;33m.\u001b[0m\u001b[0mupper\u001b[0m\u001b[1;33m(\u001b[0m\u001b[1;33m)\u001b[0m\u001b[1;33m,\u001b[0m\u001b[0mend\u001b[0m\u001b[1;33m=\u001b[0m\u001b[1;34m\"\"\u001b[0m\u001b[1;33m)\u001b[0m\u001b[1;33m\u001b[0m\u001b[1;33m\u001b[0m\u001b[0m\n\u001b[0m\u001b[0;32m     16\u001b[0m                     \u001b[0mi\u001b[0m \u001b[1;33m+=\u001b[0m\u001b[1;36m1\u001b[0m\u001b[1;33m\u001b[0m\u001b[1;33m\u001b[0m\u001b[0m\n\u001b[0;32m     17\u001b[0m                     \u001b[1;32mcontinue\u001b[0m\u001b[1;33m\u001b[0m\u001b[1;33m\u001b[0m\u001b[0m\n",
      "\u001b[1;31mIndexError\u001b[0m: string index out of range"
     ]
    }
   ],
   "source": [
    "def capitalization(text):\n",
    "    i = 0\n",
    "    while i < len(text):\n",
    "        if i == 0 :\n",
    "            print(text[i].upper(), end=\"\")\n",
    "        elif i==len(text)-1:\n",
    "            print(text[i])\n",
    "        else:\n",
    "            if (text[i] == \".\" or text[i] == \"!\" or text[i] == \"?\"):\n",
    "                print(text[i], end=\"\")\n",
    "                if text[i+1]==\" \":\n",
    "                    i += 1\n",
    "                    print(text[i],end=\"\")\n",
    "                    i+=1\n",
    "                    print(text[i].upper(),end=\"\")\n",
    "                    i +=1\n",
    "                    continue\n",
    "                else:\n",
    "                    i += 1\n",
    "                    print(text[i].upper(), end=\"\")\n",
    "                    i+=1\n",
    "            if (text[i] == \"i\" and text[i - 1] == \" \" and text[i + 1] == \" \"):\n",
    "                print(text[i].upper(), end=\"\")\n",
    "                i +=1\n",
    "                continue\n",
    "            print(text[i], end=\"\")\n",
    "        i += 1\n",
    "\n",
    "n = input()\n",
    "capitalization(n)\n"
   ]
  }
 ],
 "metadata": {
  "kernelspec": {
   "display_name": "Python 3",
   "language": "python",
   "name": "python3"
  }
 },
 "nbformat": 4,
 "nbformat_minor": 4
}
