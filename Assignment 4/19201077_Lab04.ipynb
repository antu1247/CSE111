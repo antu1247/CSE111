{
 "cells": [
  {
   "cell_type": "code",
   "execution_count": 1,
   "metadata": {},
   "outputs": [
    {
     "name": "stdout",
     "output_type": "stream",
     "text": [
      "Value 1:3\n",
      "Operator:*\n",
      "Value 2:3\n",
      "Let’s Calculate!\n",
      "Result: 9\n"
     ]
    }
   ],
   "source": [
    "class Calculator:\n",
    "    def __init__(self):\n",
    "       \n",
    "        print('Let’s Calculate!')\n",
    "    def add(self, num1, num2):\n",
    "        print('Result:',num1 + num2)\n",
    "    def subtract(self,num1, num2 ):\n",
    "        print('Result:',num1 - num2)\n",
    "    def multiply(self,num1, num2 ):\n",
    "        print('Result:',num1 * num2)\n",
    "    def divide(self,num1, num2 ):\n",
    "        print('Result:',num1 /num2)\n",
    "c1 = Calculator()\n",
    "x = int(input('Value 1:'))\n",
    "y = input('Operator:')\n",
    "z = int(input('Value 2:'))\n",
    "#c1 = Calculator(x,y,z) \n",
    "if x == '+':\n",
    "    c1.add(x,z)\n",
    "elif y== '-':\n",
    "    c1.subtract(x,z)\n",
    "elif y== '*':\n",
    "    c1.multiply(x,z)\n",
    "elif y == '/':\n",
    "    c1.divide(x,z)"
   ]
  },
  {
   "cell_type": "code",
   "execution_count": 2,
   "metadata": {},
   "outputs": [
    {
     "name": "stdout",
     "output_type": "stream",
     "text": [
      "Hello!\n",
      "Sam You have purchase  3  item(s)\n",
      "chips\n",
      "chocolate\n",
      "orange juice\n",
      "-----------------------------\n",
      "Hello  David !\n",
      "David You have purchase  1  item(s)\n",
      "orange juice\n"
     ]
    }
   ],
   "source": [
    "class Customer:\n",
    "    def __init__(self, name1):\n",
    "        self.name1 = name1\n",
    "        \n",
    "    def greet(self, x =None):\n",
    "        if x is None:\n",
    "            print('Hello!')\n",
    "        else:\n",
    "            print('Hello ',x,'!')\n",
    "        \n",
    "    def purchase(self, *args):\n",
    "        \n",
    "        print(self.name1,'You have purchase ',len(args),' item(s)')\n",
    "        for i in args:\n",
    "            print(i)\n",
    "\n",
    "\n",
    "customer_1 = Customer(\"Sam\")\n",
    "customer_1.greet()\n",
    "customer_1.purchase(\"chips\", \"chocolate\", \"orange juice\")\n",
    "print(\"-----------------------------\")\n",
    "customer_2 = Customer(\"David\")\n",
    "customer_2.greet(\"David\")\n",
    "customer_2.purchase(\"orange juice\")"
   ]
  },
  {
   "cell_type": "code",
   "execution_count": 3,
   "metadata": {},
   "outputs": [
    {
     "name": "stdout",
     "output_type": "stream",
     "text": [
      "Kunfu is a Male Panda Bear who is 5 years old\n",
      "Pan Pan is a Female Panda Bear who is 3 years old\n",
      "Ming Ming is a Female Panda Bear who is 8 years old\n",
      "Pan Pan sleeps 10  daily and should have Broccoli Chicken\n",
      "None\n",
      "Kunfu sleeps 4  daily and should have Mixed Veggies\n",
      "None\n",
      "Ming Ming  duration is unknown thus shouldhave only bamboo leaves\n",
      "None\n"
     ]
    }
   ],
   "source": [
    "class Panda:\n",
    "    def __init__(self, name, gender, age):\n",
    "        self.name = name\n",
    "        self.gender = gender\n",
    "        self.age  = age\n",
    "    def sleep(self, hour =  None):\n",
    "        if hour is None:\n",
    "            print(self.name,' duration is unknown thus shouldhave only bamboo leaves')\n",
    "        elif hour>=3 and hour<=5:\n",
    "            print(self.name, 'sleeps', hour, ' daily and should have Mixed Veggies')\n",
    "        elif hour>=6 and hour <=8:\n",
    "            print(self.name,'sleeps', hour,' daily and should have Eggplant & Tofu')\n",
    "        elif hour>= 9 and hour <= 11:\n",
    "            print(self.name, 'sleeps', hour,' daily and should have Broccoli Chicken')\n",
    "        elif hour is None:\n",
    "            print(self.name,' duration is unknown thus shouldhave only bamboo leaves')\n",
    "\n",
    "\n",
    "panda1 = Panda(\"Kunfu\",\"Male\", 5)\n",
    "panda2=Panda(\"Pan Pan\",\"Female\",3)\n",
    "panda3=Panda(\"Ming Ming\",\"Female\",8)\n",
    "print(\"{} is a {} Panda Bear who is {} years old\".format(panda1.name,panda1.gender,panda1.age))\n",
    "print(\"{} is a {} Panda Bear who is {} years old\".format(panda2.name,panda2.gender,panda2.age))\n",
    "print(\"{} is a {} Panda Bear who is {} years old\".format(panda3.name,panda3.gender,panda3.age))\n",
    "print(panda2.sleep(10))\n",
    "print(panda1.sleep(4))\n",
    "print(panda3.sleep())\n"
   ]
  },
  {
   "cell_type": "code",
   "execution_count": 4,
   "metadata": {},
   "outputs": [
    {
     "name": "stdout",
     "output_type": "stream",
     "text": [
      "white  cat is sitting\n",
      "Black  cat is sitting\n",
      "Brown  cat is jumping\n",
      "Red  cat is purring\n",
      "Blue  cat is sitting\n",
      "Purple  cat is jumping\n"
     ]
    }
   ],
   "source": [
    "class Cat:\n",
    "    def __init__(self, color = 'white', activity= 'sitting'):\n",
    "        self.color = color\n",
    "        self.activity = activity\n",
    "        \n",
    "        \n",
    "    def changeColor(self, color):\n",
    "        self.color = color\n",
    "    def printCat(self):\n",
    "        print(self.color,' cat is', self.activity)\n",
    "\n",
    "c1 = Cat()\n",
    "c2 = Cat(\"Black\")\n",
    "c3 = Cat(\"Brown\", \"jumping\")\n",
    "c4 = Cat(\"Red\", \"purring\")\n",
    "c1.printCat()\n",
    "c2.printCat()\n",
    "c3.printCat()\n",
    "c4.printCat()\n",
    "c1.changeColor(\"Blue\")\n",
    "c3.changeColor(\"Purple\")\n",
    "c1.printCat()\n",
    "c3.printCat()"
   ]
  },
  {
   "cell_type": "code",
   "execution_count": 5,
   "metadata": {},
   "outputs": [
    {
     "name": "stdout",
     "output_type": "stream",
     "text": [
      "( 0 , 0 )\n",
      "( 0 , 1 )\n",
      "( -1 , 1 )\n",
      "( -1 , 0 )\n"
     ]
    }
   ],
   "source": [
    "class Vehicle:\n",
    "    def __init__(self, x=0, y=0):\n",
    "        self.x = x\n",
    "        self.y = y\n",
    "    \n",
    "    def moveUp(self, x = 0, y = 1):\n",
    "        self.x = x\n",
    "        self.y = y\n",
    "    def moveDown(self, x = -1, y = 0):\n",
    "        self.x = x\n",
    "        self.y = y\n",
    "    def moveLeft(self, x = -1, y = 1):\n",
    "        self.x= x\n",
    "        self.y = y\n",
    "    def moveRight(self, x = 1, y = -1):\n",
    "        self.x = x\n",
    "        self.y = y\n",
    "    def print_position(self):\n",
    "        print('(',self.x,',',self.y,')')\n",
    "\n",
    "\n",
    "car = Vehicle()\n",
    "car.print_position()\n",
    "car.moveUp()\n",
    "car.print_position()\n",
    "car.moveLeft()\n",
    "car.print_position()\n",
    "car.moveDown()\n",
    "car.print_position()\n",
    "car.moveRight()"
   ]
  },
  {
   "cell_type": "code",
   "execution_count": 1,
   "metadata": {},
   "outputs": [
    {
     "name": "stdout",
     "output_type": "stream",
     "text": [
      "Name: Ethen Hunt\n",
      "language: Java\n",
      "Experience: 10\n",
      "--------------------------\n",
      "Name: James Bond\n",
      "language: C++\n",
      "Experience: 7\n",
      "--------------------------\n",
      "Name: Jon Snow\n",
      "language: Python\n",
      "Experience: 4\n",
      "Name: Jon Snow\n",
      "language: Python\n",
      "Experience: 9\n"
     ]
    }
   ],
   "source": [
    "#Task6\n",
    "class Programmer:\n",
    "    def __init__(self, name,lang, exp):\n",
    "        self.name = name \n",
    "        self.lang= lang \n",
    "        self.exp= exp\n",
    "    def printDetails(self):\n",
    "        print(\"Name:\", self.name)\n",
    "        print(\"language:\", self.lang)\n",
    "        print(\"Experience:\",self.exp)\n",
    "    \n",
    "    def addExp(self,addExp):\n",
    "        self.exp = self.exp + addExp\n",
    "        \n",
    "p1 = Programmer(\"Ethen Hunt\", \"Java\", 10)\n",
    "p1.printDetails()\n",
    "print('--------------------------')\n",
    "p2 = Programmer(\"James Bond\", \"C++\", 7)\n",
    "p2.printDetails()\n",
    "print('--------------------------')\n",
    "p3 = Programmer(\"Jon Snow\", \"Python\", 4)\n",
    "p3.printDetails()\n",
    "p3.addExp(5)\n",
    "p3.printDetails() "
   ]
  },
  {
   "cell_type": "code",
   "execution_count": 2,
   "metadata": {},
   "outputs": [
    {
     "name": "stdout",
     "output_type": "stream",
     "text": [
      "Name: Harry Potter\n",
      "ID: 123\n",
      "Depertment: CSE\n",
      "Daily Effort: 3 hour(s)\n",
      "Suggestion: Keep up the good work!\n",
      "========================\n",
      "Name: John Wick\n",
      "ID: 456\n",
      "Depertment: BBA\n",
      "Daily Effort: 2 hour(s)\n",
      "Suggestion: Should give more effort!\n",
      "========================\n",
      "Name: Naruto Uzumaki\n",
      "ID: 777\n",
      "Depertment: Ninja\n",
      "Daily Effort: 6 hour(s)\n",
      "Suggestion: Excellent! Now motivate others.\n"
     ]
    }
   ],
   "source": [
    "#Task7\n",
    "class Student:\n",
    "    def __init__(self, name, id, Depertment = 'CSE', effort = 0):\n",
    "        self.name = name \n",
    "        self.id= id\n",
    "        self.Depertment= Depertment\n",
    "        self.effort = effort \n",
    "    def dailyEffort(self,eff):\n",
    "            self.effort += eff\n",
    "    def printDetails(self):\n",
    "        print('Name:',self.name)\n",
    "        print('ID:',self.id)\n",
    "        print('Depertment:',self.Depertment)\n",
    "        print('Daily Effort:',self.effort, 'hour(s)')\n",
    "            \n",
    "        if(self.effort <= 2):\n",
    "           print('Suggestion: Should give more effort!')\n",
    "        elif(self.effort<=4):\n",
    "             print('Suggestion: Keep up the good work!')\n",
    "        else:\n",
    "            print('Suggestion: Excellent! Now motivate others.')\n",
    "                \n",
    "#=======================================================================================\n",
    "harry = Student('Harry Potter', 123)\n",
    "harry.dailyEffort(3)\n",
    "harry.printDetails()\n",
    "print('========================')\n",
    "john = Student(\"John Wick\", 456, \"BBA\")\n",
    "john.dailyEffort(2)\n",
    "john.printDetails()\n",
    "print('========================')\n",
    "naruto = Student(\"Naruto Uzumaki\", 777, \"Ninja\")\n",
    "naruto.dailyEffort(6)\n",
    "naruto.printDetails()\n"
   ]
  }
 ],
 "metadata": {
  "kernelspec": {
   "display_name": "Python 3",
   "language": "python",
   "name": "python3"
  },
  "language_info": {
   "codemirror_mode": {
    "name": "ipython",
    "version": 3
   },
   "file_extension": ".py",
   "mimetype": "text/x-python",
   "name": "python",
   "nbconvert_exporter": "python",
   "pygments_lexer": "ipython3",
   "version": "3.8.3"
  }
 },
 "nbformat": 4,
 "nbformat_minor": 4
}
