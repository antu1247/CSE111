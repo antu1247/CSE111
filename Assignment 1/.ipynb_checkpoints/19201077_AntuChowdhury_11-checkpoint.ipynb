{
 "cells": [
  {
   "cell_type": "code",
   "execution_count": null,
   "metadata": {},
   "outputs": [],
   "source": [
    "#StringProblem1\n",
    "\n",
    "letter = input('Enter the some letter:')\n",
    "x = len(letter)\n",
    "y = 0\n",
    "i = 0\n",
    "for n in range(x):\n",
    "    if letter[n]>='A' and letter[n]<='Z':\n",
    "        y=y+1\n",
    "    elif letter[n]>='a' and letter[n]<='z':\n",
    "        i=i+1\n",
    "if y>i:\n",
    "        print(letter.upper())\n",
    "else:\n",
    "        print(letter.lower())"
   ]
  },
  {
   "cell_type": "code",
   "execution_count": null,
   "metadata": {},
   "outputs": [],
   "source": [
    "#StringProblem2\n",
    "\n",
    "ex = input(\"Enter Anything:\")\n",
    "m = 0\n",
    "n = 0\n",
    "j = len(ex)\n",
    "for  i in range (j):\n",
    "    if ex[i]>='A' and ex[i]<= 'Z':\n",
    "        m = m+1\n",
    "    elif ex[i]>='a' and ex[i]<='z':\n",
    "        m = m+1\n",
    "    elif ex[i]>='0' and ex[i]<='9':\n",
    "        n = n+1\n",
    "if m != 0 and n != 0:\n",
    "    print('MIXED')\n",
    "elif m != 0  and n == 0:\n",
    "    print('WORD')\n",
    "else:\n",
    "    print('NUMBER')"
   ]
  },
  {
   "cell_type": "code",
   "execution_count": null,
   "metadata": {},
   "outputs": [],
   "source": [
    "#StringProblem3\n",
    "\n",
    "word = input('Enter the word:')\n",
    "c = 0\n",
    "s = ''\n",
    "j = len(word)\n",
    "for i in range(j):\n",
    "    if word[i]>='A' and word[i]<='Z':\n",
    "        c = c+1\n",
    "    elif c == 1 :\n",
    "        s = s+word[i]\n",
    "    elif c==2:\n",
    "        break\n",
    "if len(s) != 0:\n",
    "    print(s)\n",
    "else:\n",
    "    print('BLANK')"
   ]
  },
  {
   "cell_type": "code",
   "execution_count": 2,
   "metadata": {},
   "outputs": [
    {
     "name": "stdout",
     "output_type": "stream",
     "text": [
      "Enter the Sentence:The book is not too good\n",
      "The book is not exellent\n"
     ]
    }
   ],
   "source": [
    "#StringProblem4\n",
    "sentence = input('Enter the Sentence:')\n",
    "if sentence.find('too good'):\n",
    "    print(sentence.replace('too good','exellent'))\n",
    "else:\n",
    "    print(sentence)"
   ]
  },
  {
   "cell_type": "code",
   "execution_count": 3,
   "metadata": {},
   "outputs": [
    {
     "name": "stdout",
     "output_type": "stream",
     "text": [
      "Enter the word:harry\n",
      "Enter the word:hermoni\n",
      "hrr hr\n"
     ]
    }
   ],
   "source": [
    "#StringProblem5\n",
    "word = input('Enter the word:')\n",
    "word1 = input('Enter the word:')\n",
    "s = ''\n",
    "s1 = ''\n",
    "j = len(word)\n",
    "k = len(word1)\n",
    "for i in range(j):\n",
    "    if word[i] in word1:\n",
    "        s = s + word[i]\n",
    "for q in range(k):\n",
    "    if word1[q] in word:\n",
    "        s1 = s1 + word1[q]\n",
    "if len(s + s1) != 0:\n",
    "    print(s , s1)\n",
    "else:\n",
    "    print('Nothing is common!')"
   ]
  },
  {
   "cell_type": "code",
   "execution_count": 9,
   "metadata": {},
   "outputs": [
    {
     "name": "stdout",
     "output_type": "stream",
     "text": [
      "Enter the password:ohmyBR@CU\n",
      "Digit missing\n"
     ]
    }
   ],
   "source": [
    "#StringProblem6\n",
    "\n",
    "word = input('Enter the password:')\n",
    "upper = 0\n",
    "lower = 0\n",
    "digit = 0\n",
    "spec = 0\n",
    "j = len(word)\n",
    "for i in range(j):\n",
    "    if (int(ord(word[i]))>=65 and int(ord(word[i]))<=90):\n",
    "        upper = upper + 1\n",
    "    else:\n",
    "        pass\n",
    "if upper == 0:\n",
    "    print('Uppercase Character Missing')\n",
    "for k in range(j):\n",
    "    if (int(ord(word[k]))>=97 and int(ord(word[k]))<=122):\n",
    "        lower = lower + 1\n",
    "    else:\n",
    "        pass\n",
    "if lower == 0:\n",
    "    print('Lowercase Character missing')\n",
    "for a in range (j):\n",
    "    if int(ord(word[a]))>=48 and int(ord(word[a]))<=57:\n",
    "        digit = digit + 1\n",
    "    else:\n",
    "        pass\n",
    "if digit == 0:\n",
    "    print('Digit missing')\n",
    "for q in range(j):\n",
    "    if word[q]=='_' or word[q]=='$' or word[q]=='#' or word[q]=='@':\n",
    "        spec = spec + 1\n",
    "    else:\n",
    "        pass\n",
    "if spec == 0:OH\n",
    "    print('Special Character missing')\n",
    "if upper>0 and lower>0 and digit>0 and spec>0:\n",
    "    print('OK')"
   ]
  },
  {
   "cell_type": "code",
   "execution_count": 8,
   "metadata": {},
   "outputs": [
    {
     "name": "stdout",
     "output_type": "stream",
     "text": [
      "Enter:10\n",
      "Enter:20\n",
      "Enter:10\n",
      "Enter:20\n",
      "Enter:30\n",
      "Enter:30\n",
      "Enter:40\n",
      "Enter:STOP\n",
      "10 - 2 times\n",
      "20 - 2 times\n",
      "10 - 2 times\n",
      "20 - 2 times\n",
      "30 - 2 times\n",
      "30 - 2 times\n",
      "40 - 1 times\n"
     ]
    }
   ],
   "source": [
    "#ListProblem1\n",
    "\n",
    "list1 = []\n",
    "while True:\n",
    "    data = input('Enter:')\n",
    "    if data == 'STOP':\n",
    "        break\n",
    "    else:\n",
    "        list1.append(int(data))\n",
    "for j in range(len(list1)):\n",
    "    if list1 in list1[0:j]:\n",
    "        continue\n",
    "    else:\n",
    "        print(list1[j],'-',list1.count(list1[j]),'times')"
   ]
  },
  {
   "cell_type": "code",
   "execution_count": 21,
   "metadata": {},
   "outputs": [
    {
     "name": "stdout",
     "output_type": "stream",
     "text": [
      "How many list: 4\n",
      "Enter list : 1 2 3\n",
      "Enter list : 4 5 6\n",
      "Enter list : 10 11 12\n",
      "Enter list : 7 8 9\n",
      "33\n",
      "['10', '11', '12']\n"
     ]
    }
   ],
   "source": [
    "#listproblem2\n",
    "n=input(\"How many list: \")\n",
    "list1=[]\n",
    "list2=[]\n",
    "for i in range(int(n)):\n",
    "    list1.append(input(\"Enter list : \"))\n",
    "for j in range(len(list1)):\n",
    "    list1[j]=list1[j].split(\" \")\n",
    "for k in range(len(list1)):\n",
    "    sum=0\n",
    "    for l in range(len(list1[k])):\n",
    "        sum += int(list1[k][l])\n",
    "    list2.append(sum)\n",
    "max =list2[0]\n",
    "for m in range(len(list2)):\n",
    "    if list2[m]>max:\n",
    "        max=list2[m]\n",
    "max=list2.index(max)\n",
    "print(list2[max])\n",
    "print(list1[max])"
   ]
  },
  {
   "cell_type": "code",
   "execution_count": 20,
   "metadata": {},
   "outputs": [
    {
     "name": "stdout",
     "output_type": "stream",
     "text": [
      "2 3 6\n",
      "3 4 5\n",
      "[6, 8, 10, 9, 12, 15, 18, 24, 30]\n"
     ]
    }
   ],
   "source": [
    "#listproblem3\n",
    "list1=[]\n",
    "list2=[]\n",
    "for i in input().split():\n",
    "    list1.append(int(i))\n",
    "for j in input().split():\n",
    "    list2.append(int(j))\n",
    "list3 = []\n",
    "k = 0\n",
    "while k <len(list1):\n",
    "    m = 0\n",
    "    while m < len(list2):\n",
    "        list3.append(list1[k]*list2[m])\n",
    "        m = m+1\n",
    "    k = k+1\n",
    "print(list3)"
   ]
  },
  {
   "cell_type": "code",
   "execution_count": 19,
   "metadata": {},
   "outputs": [
    {
     "name": "stdout",
     "output_type": "stream",
     "text": [
      "Enter: 1 4 2 3\n",
      "UB Jumper\n",
      "Enter: 2 1 4 6 1 0\n",
      "Not UB Jumper\n",
      "Enter: 1 4 2 -1 6\n",
      "Not UB Jumper\n",
      "Enter: STOP\n"
     ]
    }
   ],
   "source": [
    "#listproblem4\n",
    "\n",
    "n=input(\"Enter: \")\n",
    "while n!=\"STOP\":\n",
    "    list1=n.split(\" \")\n",
    "    list2=[]\n",
    "    m=True\n",
    "    for i in range(len(list1)-1):\n",
    "        list2.append(int(list1[i])-int(list1[i+1]))\n",
    "        if list2[i]<0:\n",
    "            list2[i]*=-1\n",
    "    for j in range(1,len(list2)):\n",
    "        if not j in list2:\n",
    "            m=False\n",
    "    if m:\n",
    "        print(\"UB Jumper\")\n",
    "    else:\n",
    "        print(\"Not UB Jumper\")\n",
    "    n=input(\"Enter: \")"
   ]
  },
  {
   "cell_type": "code",
   "execution_count": 11,
   "metadata": {},
   "outputs": [
    {
     "name": "stdout",
     "output_type": "stream",
     "text": [
      "Bracu1234\n",
      "acruB1324\n"
     ]
    }
   ],
   "source": [
    "#Listproblem5\n",
    "\n",
    "n= input()\n",
    "s1 = ''\n",
    "s2 = ''\n",
    "s3 = ''\n",
    "for i in range(len(n)):\n",
    "    if n[i]>='a' and n[i]<='z':\n",
    "        s1 = s1+n[i]\n",
    "    elif n[i]>='A' and n[i]<='Z':\n",
    "        s2 = s2 + n[i]\n",
    "    elif n[i]>='0' and n[i]<='9':\n",
    "        s3 = s3+n[i]\n",
    "s4 = ''.join(sorted(s1))\n",
    "s5 = ''.join(sorted(s2))\n",
    "list1 = sorted(s3)\n",
    "list2 = []\n",
    "for j in range(len(list1)):\n",
    "    data = int(list1[j])\n",
    "    list2.append(data)\n",
    "even=''\n",
    "odd = ''\n",
    "for k in range(len(list2)):\n",
    "    if list2[k]%2==0:\n",
    "        m = str(list1[k])\n",
    "        even = even+m\n",
    "    else:\n",
    "        w = str(list2[k])\n",
    "        odd = odd+w\n",
    "final = s4 +s5 +odd+even\n",
    "print(final)"
   ]
  },
  {
   "cell_type": "code",
   "execution_count": 14,
   "metadata": {},
   "outputs": [
    {
     "name": "stdout",
     "output_type": "stream",
     "text": [
      "Enter n and k: 5 2\n",
      "Enter list: 0 4 5 1 0\n",
      "1\n"
     ]
    }
   ],
   "source": [
    "#ListProblem6\n",
    "\n",
    "x=input(\"Enter n and k: \")\n",
    "list1=input(\"Enter list: \")\n",
    "p=0\n",
    "list1=list1.split(\" \")\n",
    "x=x.split(\" \")\n",
    "for i in range(len(list1)):\n",
    "    list1[i]=int(list1[i])+int(x[1])\n",
    "for j in list1:\n",
    "    if j<6:\n",
    "        p+=1\n",
    "print(int(p/3))"
   ]
  },
  {
   "cell_type": "code",
   "execution_count": 1,
   "metadata": {},
   "outputs": [
    {
     "name": "stdout",
     "output_type": "stream",
     "text": [
      "a: 100, b: 100, c: 200, d: 300\n",
      "a: 300, b: 200, d: 400, e: 200\n",
      "{'a': 400, ' b': 300, ' c': 200, ' d': 700, ' e': 200}\n",
      "(200, 300, 400, 700)\n"
     ]
    }
   ],
   "source": [
    "#DicAndTupProb1\n",
    "\n",
    "def dictionary(s):\n",
    "    d={}\n",
    "    for i in s:\n",
    "        c=i.find(\":\")\n",
    "        d[i[0:c]]=int(i[c+1:])\n",
    "    return d\n",
    "a=input().split(',')\n",
    "a=dictionary(a)\n",
    "b=input().split(',')\n",
    "b=dictionary(b)\n",
    "d={}\n",
    "for i in a:\n",
    "    if i in b:\n",
    "            d[i]=a[i]+b[i]\n",
    "    else:\n",
    "        d[i]=a[i]\n",
    "for i in b:\n",
    "    if i not in a:\n",
    "            d[i]=b[i]\n",
    "print(d)\n",
    "v=d.values()\n",
    "l=[]\n",
    "for i in v:\n",
    "    if i not in l:\n",
    "        l.append(int(i))\n",
    "for i in range(0,len(l)-1):\n",
    "    for j in range(i+1,len(l)):\n",
    "        if l[i]>l[j]:\n",
    "            temp=l[i]\n",
    "            l[i]=l[j]\n",
    "            l[j]=temp\n",
    "l=tuple(l)\n",
    "print(l)\n",
    "    "
   ]
  },
  {
   "cell_type": "code",
   "execution_count": 3,
   "metadata": {},
   "outputs": [
    {
     "name": "stdout",
     "output_type": "stream",
     "text": [
      "10\n",
      "20\n",
      "30\n",
      "10\n",
      "20\n",
      "STOP\n",
      "10 - 2 times\n",
      "20 - 2 times\n",
      "30 - 1 times\n"
     ]
    }
   ],
   "source": [
    "#DicAndTupProb2\n",
    "\n",
    "c=0\n",
    "d={}\n",
    "while True:\n",
    "    s=input()\n",
    "    if s=='STOP':\n",
    "        break\n",
    "    else:\n",
    "        d[c]=s\n",
    "    c=c+1\n",
    "valu=d.values\n",
    "l=[]\n",
    "for x,y in d.items():\n",
    "    count=0\n",
    "    if y not in l:\n",
    "        for i in d.values():\n",
    "            if y==i:\n",
    "                count=count+1\n",
    "        l.append(y)\n",
    "        print(y,\"-\",count,\"times\")"
   ]
  },
  {
   "cell_type": "code",
   "execution_count": 4,
   "metadata": {},
   "outputs": [
    {
     "name": "stdout",
     "output_type": "stream",
     "text": [
      "key1 : value1, key2 : value2, key3 : value1, key4 : value2\n",
      "{' value1': ['key1 ', ' key3 '], ' value2': [' key2 ', ' key4 ']}\n"
     ]
    }
   ],
   "source": [
    "#DicAndTupProb3\n",
    "\n",
    "s=input().split(\",\")\n",
    "d={}\n",
    "for i in s:\n",
    "    c=i.find(\":\")\n",
    "    d[i[0:c]]=(i[c+1:])\n",
    "d1={}\n",
    "for i in d.values():\n",
    "    l=[]\n",
    "    if i not in d1:\n",
    "        for x,y in d.items():        \n",
    "            if i==y:\n",
    "                l.append(x)\n",
    "        d1[i]=l\n",
    "print(d1)"
   ]
  },
  {
   "cell_type": "code",
   "execution_count": 5,
   "metadata": {},
   "outputs": [
    {
     "name": "stdout",
     "output_type": "stream",
     "text": [
      "evil\n",
      "live\n",
      "Those strings are anagrams.\n"
     ]
    }
   ],
   "source": [
    "#DicAndTupProb4\n",
    "d={input().upper():input().upper()}\n",
    "for x,y in d.items():\n",
    "    c=1\n",
    "    for i in x:\n",
    "        if x.count(i)!=y.count(i):\n",
    "            c=0\n",
    "            break\n",
    "    if c==1:\n",
    "         print('Those strings are anagrams.')\n",
    "    else:\n",
    "         print('Those strings are not anagrams.')"
   ]
  },
  {
   "cell_type": "code",
   "execution_count": 6,
   "metadata": {},
   "outputs": [
    {
     "name": "stdout",
     "output_type": "stream",
     "text": [
      "Hello,world\n",
      "HELLO,WORLD\n",
      "44335555556661196667775553"
     ]
    }
   ],
   "source": [
    "s=input().upper()\n",
    "print(s)\n",
    "d={ '.':1,',':11,'?':111,'!':1111,':':11111, 'A':2,'B':22,'C':222,'D':3,'E':33,'F':333,'G':4,'H':44,'I':444,\n",
    "   'J':5,'K':55,'L':555,'M':6,'N':66,'O':666,'P':7,'Q':77,'R':777,\n",
    "   'S':7777,'T':8,'U':88,'V':888,'W':9,'X':99,'Y':999,'Z':9999,' ':0}\n",
    "for i in s:\n",
    "    for x,y in d.items():\n",
    "        if i == x:\n",
    "            print(y,end=\"\")"
   ]
  },
  {
   "cell_type": "code",
   "execution_count": null,
   "metadata": {},
   "outputs": [],
   "source": []
  }
 ],
 "metadata": {
  "kernelspec": {
   "display_name": "Python 3",
   "language": "python",
   "name": "python3"
  },
  "language_info": {
   "codemirror_mode": {
    "name": "ipython",
    "version": 3
   },
   "file_extension": ".py",
   "mimetype": "text/x-python",
   "name": "python",
   "nbconvert_exporter": "python",
   "pygments_lexer": "ipython3",
   "version": "3.8.3"
  }
 },
 "nbformat": 4,
 "nbformat_minor": 4
}
